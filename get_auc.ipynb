{
 "cells": [
  {
   "cell_type": "code",
   "execution_count": null,
   "id": "eb0ce89c-a2a1-4b1f-be00-f221270f00c1",
   "metadata": {},
   "outputs": [],
   "source": [
    "from sklearn.metrics import *\n",
    "import numpy as np\n",
    "import os"
   ]
  },
  {
   "cell_type": "code",
   "execution_count": null,
   "id": "af9bf5e2-a906-494d-b330-f34d6473da6a",
   "metadata": {},
   "outputs": [],
   "source": [
    "prediction_path = \"/home/elnaggar/elnaggarprojects/drone video anomaly/drone-anomaly-segmentation/experiments\"\n",
    "gt_path = \"/home/elnaggar/elnaggarprojects/drone video anomaly/UIT-ADrone/test/test_frame_mask\""
   ]
  },
  {
   "cell_type": "code",
   "execution_count": null,
   "id": "6ebf8c03-646e-4af0-aeff-f37f374512a8",
   "metadata": {},
   "outputs": [],
   "source": [
    "all_vids = os.listdir(gt_path)\n",
    "\n",
    "\n",
    "n_epochs = 2\n",
    "\n",
    "changevid = lambda x,i: x.split('.npy')[0]+'_epoch{}.npy'.format(i)\n",
    "max_val = 0\n",
    "max_eer = 100000000\n",
    "\n",
    "for k in range(1,n_epochs):\n",
    "    all_np_labels = []\n",
    "    all_losses = []\n",
    "    for vid in all_vids: \n",
    "        preds = np.load(open(os.path.join(prediction_path,vid),'rb'))\n",
    "        all_losses.append(preds)\n",
    "        np_label =  np.load(open(os.path.join(gt_path,vid),'rb'))   \n",
    "        all_np_labels.append(np_label[len(np_label) - len(preds):])\n",
    "\n",
    "    auc = roc_auc_score(y_true = np.concatenate(all_np_labels), y_score = np.concatenate(all_losses))\n",
    "    print(\"auc value is: \",auc)\n",
    "    if auc > max_val:\n",
    "        max_val = auc \n",
    "    fpr, tpr, threshold = roc_curve(np.concatenate(all_np_labels), np.concatenate(all_losses), pos_label=1)\n",
    "    fnr = 1 - tpr\n",
    "    eer_threshold = threshold[np.nanargmin(np.absolute((fnr - fpr)))]\n",
    "    EER = fpr[np.nanargmin(np.absolute((fnr - fpr)))]\n",
    "\n",
    "    if EER < max_eer:\n",
    "        max_eer = EER\n",
    "    print(\"EER value is: \", EER)\n"
   ]
  },
  {
   "cell_type": "code",
   "execution_count": null,
   "id": "f4468c3a-0a16-49cc-887b-63a2ecb5b4ea",
   "metadata": {},
   "outputs": [],
   "source": [
    "print(\"max auc: \",max_val)\n",
    "print(\"lowest eer: \",max_eer)"
   ]
  },
  {
   "cell_type": "code",
   "execution_count": null,
   "id": "fcaa0f8f-3f79-4f23-bbe9-76f252a2b551",
   "metadata": {},
   "outputs": [],
   "source": [
    "# print(roc_auc_score(y_true = np.concatenate(all_np_labels), y_score = np.concatenate(all_losses)))\n",
    "# fpr, tpr, threshold = roc_curve(np.concatenate(all_np_labels), np.concatenate(all_losses), pos_label=1)\n",
    "# fnr = 1 - tpr\n",
    "# eer_threshold = threshold[np.nanargmin(np.absolute((fnr - fpr)))]\n",
    "# EER = fpr[np.nanargmin(np.absolute((fnr - fpr)))]\n",
    "# print(\"EER value is: \", EER)"
   ]
  },
  {
   "cell_type": "code",
   "execution_count": null,
   "id": "45f6fe0b-68b3-4a2f-a7a3-008bb4196fd6",
   "metadata": {},
   "outputs": [],
   "source": []
  }
 ],
 "metadata": {
  "kernelspec": {
   "display_name": "Python 3 (ipykernel)",
   "language": "python",
   "name": "python3"
  },
  "language_info": {
   "codemirror_mode": {
    "name": "ipython",
    "version": 3
   },
   "file_extension": ".py",
   "mimetype": "text/x-python",
   "name": "python",
   "nbconvert_exporter": "python",
   "pygments_lexer": "ipython3",
   "version": "3.10.12"
  }
 },
 "nbformat": 4,
 "nbformat_minor": 5
}
